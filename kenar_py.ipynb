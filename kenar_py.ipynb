{
  "nbformat": 4,
  "nbformat_minor": 0,
  "metadata": {
    "colab": {
      "provenance": [],
      "authorship_tag": "ABX9TyPQ+xJyVQ7XaEI2Acg36Qy+",
      "include_colab_link": true
    },
    "kernelspec": {
      "name": "python3",
      "display_name": "Python 3"
    },
    "language_info": {
      "name": "python"
    }
  },
  "cells": [
    {
      "cell_type": "markdown",
      "metadata": {
        "id": "view-in-github",
        "colab_type": "text"
      },
      "source": [
        "<a href=\"https://colab.research.google.com/github/tenksamet/kenar/blob/main/kenar_py.ipynb\" target=\"_parent\"><img src=\"https://colab.research.google.com/assets/colab-badge.svg\" alt=\"Open In Colab\"/></a>"
      ]
    },
    {
      "cell_type": "code",
      "execution_count": null,
      "metadata": {
        "id": "k99RJX6k8vfs"
      },
      "outputs": [],
      "source": [
        "import matplotlib.pyplot as plt\n",
        "from pylab import *\n",
        "\n",
        "x = [2, -3, -1.5, 3]\n",
        "y = [3, 1, -2.5, -2]\n",
        "color = ['m', 'g', 'r', 'b']\n",
        "\n",
        "fig = plt.figure()\n",
        "ax = fig.add_subplot(111)\n",
        "\n",
        "scatter(x, y, s=100, marker='o', c=color)\n",
        "a = [2, 3]\n",
        "b = [3, -2]\n",
        "\n",
        "\n",
        "plt.plot([a[0], a[1]], [b[0], b[1]], 'ro-')\n",
        "\n",
        "for i in range(len(y)):\n",
        "    plt.plot([3, -2], [3, -2], 'k-', linewidth=2, label='Eğimli Çizgi')\n",
        "    plt.legend()\n",
        "\n",
        "    plt.plot(x[i:i + 2], y[i:i + 2], 'ro-')\n",
        "\n",
        "left, right = ax.get_xlim()\n",
        "low, high = ax.get_ylim()\n",
        "arrow(left, 0, right - left, 0, length_includes_head=True, head_width=0.15)\n",
        "arrow(0, low, 0, high - low, length_includes_head=True, head_width=0.15)\n",
        "xpoints = ypoints = ax.get_xlim()\n",
        "ax.plot(xpoints, ypoints, linestyle='-', color='k', lw=3, scalex=False, scaley=False)\n",
        "grid()\n",
        "show()"
      ]
    }
  ]
}